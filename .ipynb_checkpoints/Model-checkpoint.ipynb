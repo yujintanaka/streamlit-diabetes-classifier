{
 "cells": [
  {
   "cell_type": "code",
   "execution_count": 1,
   "id": "17adb678-d6fa-4ea3-84dc-d4f6f24926aa",
   "metadata": {},
   "outputs": [],
   "source": [
    "import pandas as pd\n",
    "import pandas as pd\n",
    "import matplotlib.pyplot as plt\n",
    "from sklearn.compose import ColumnTransformer\n",
    "from sklearn.preprocessing import StandardScaler\n",
    "from sklearn.model_selection  import train_test_split\n",
    "from sklearn.linear_model import LogisticRegression\n",
    "from sklearn.metrics import accuracy_score, classification_report\n",
    "from sklearn.ensemble import RandomForestClassifier\n",
    "from sklearn.neighbors import KNeighborsClassifier\n",
    "from sklearn.feature_selection import RFE\n",
    "\n",
    "df = pd.read_csv('data/train_data.csv')"
   ]
  },
  {
   "cell_type": "code",
   "execution_count": 2,
   "id": "25e303b1-eed4-4eb7-b7a0-d0efaaa0240f",
   "metadata": {},
   "outputs": [],
   "source": [
    "\n",
    "# Creating interaction features \n",
    "#df['HighBP_HighChol'] = df['HighBP'] * df['HighChol']\n",
    "#df['BMI_PhysActivity'] = df['BMI'] * df['PhysActivity']\n",
    "#df['Age_DiffWalk'] = df['Age'] * df['DiffWalk']\n",
    "#df['Fruits_Veggies'] = df['Fruits'] * df['Veggies']\n",
    "#df['HighBP_Stroke'] = df['HighBP'] * df['Stroke']\n",
    "#df['HvyAlcoholConsump_MentHlth'] = df['HvyAlcoholConsump'] * df['MentHlth']\n",
    "#df['GenHlth_PhysHlth'] = df['GenHlth'] * df['PhysHlth']\n",
    "#df['Age_Education'] = df['Age'] * df['Education']\n",
    "#df['Income_AnyHealthcare'] = df['Income'] * df['AnyHealthcare']\n",
    "#df['Smoker_HeartDiseaseorAttack'] = df['Smoker'] * df['HeartDiseaseorAttack']\n",
    "\n",
    "# Evaluating frequency of each interaction term\n",
    "def evaluate_frequency(dataframe, column_name):\n",
    "    # Count unique values and their frequencies\n",
    "    value_counts = dataframe[column_name].value_counts(normalize=True)\n",
    "    return value_counts\n",
    "\n",
    "# Iterate through interaction features and evaluate frequencies\n",
    "interaction_features = [\n",
    "    #'HighBP_HighChol',\n",
    "    #'BMI_PhysActivity',\n",
    "    #'Age_DiffWalk',\n",
    "    #'Fruits_Veggies',\n",
    "    #'HighBP_Stroke',\n",
    "    #'HvyAlcoholConsump_MentHlth',\n",
    "    #'GenHlth_PhysHlth',\n",
    "    #'Age_Education',\n",
    "    #'Income_AnyHealthcare',\n",
    "    #'Smoker_HeartDiseaseorAttack'\n",
    "]\n",
    "\n",
    "# Analyze and print frequencies for each interaction feature\n",
    "for feature in interaction_features:\n",
    "    print(f\"Frequency for {feature}:\")\n",
    "    print(evaluate_frequency(df, feature))\n",
    "    print(\"-\" * 40)\n"
   ]
  },
  {
   "cell_type": "code",
   "execution_count": 3,
   "id": "ae3526f2-fb3f-4587-8911-327ec5c3d055",
   "metadata": {},
   "outputs": [],
   "source": [
    "\n",
    "\n",
    "# over sampling of the dataset to get a balanced dataset\n",
    "class_0 = df[df['Diabetes_binary'] == 0]\n",
    "class_1 = df[df['Diabetes_binary'] == 1]\n",
    "\n",
    "# over sampling of the minority class 1\n",
    "class_1_over = class_1.sample(len(class_0), replace=True)\n",
    "\n",
    "# Creating a new dataframe with over sampled class 1 df and class 0 df\n",
    "df_over = pd.concat([class_1_over, class_0], axis=0)\n",
    "\n",
    "\n",
    "X = df_over.drop(['Diabetes_binary'], axis=1)\n",
    "y = df_over['Diabetes_binary']\n",
    "\n",
    "scaler = ColumnTransformer([\n",
    "    ('scaler', StandardScaler(), \n",
    "    [\n",
    "        'BMI',\n",
    "        'GenHlth',\n",
    "        'MentHlth',\n",
    "        'PhysHlth',\n",
    "        'Age',\n",
    "        'Education',\n",
    "        'Income',\n",
    "        #'BMI_PhysActivity',\n",
    "        #'Age_DiffWalk',\n",
    "        #'HvyAlcoholConsump_MentHlth',\n",
    "        #'GenHlth_PhysHlth',\n",
    "        #'Age_Education',\n",
    "        #'Income_AnyHealthcare'\n",
    "    ])\n",
    "], remainder='passthrough')\n",
    "X = scaler.fit_transform(X)\n",
    "\n",
    "\n",
    "# train test split\n",
    "X_train, X_test, y_train, y_test =  train_test_split(X,y,test_size=0.2, random_state=42)\n",
    "\n"
   ]
  },
  {
   "cell_type": "markdown",
   "id": "7a3d3eff-e322-49ac-b70f-8a4d6be9269a",
   "metadata": {},
   "source": [
    "<h2>Logistic Regression</h2>"
   ]
  },
  {
   "cell_type": "code",
   "execution_count": 4,
   "id": "122577d3-a232-4090-b593-e24cd5e54dbe",
   "metadata": {},
   "outputs": [
    {
     "name": "stdout",
     "output_type": "stream",
     "text": [
      "Accuracy of Model:  0.7470515492248151\n",
      "Classification Report: \n",
      "               precision    recall  f1-score   support\n",
      "\n",
      "         0.0       0.76      0.73      0.74     43628\n",
      "         1.0       0.74      0.77      0.75     43706\n",
      "\n",
      "    accuracy                           0.75     87334\n",
      "   macro avg       0.75      0.75      0.75     87334\n",
      "weighted avg       0.75      0.75      0.75     87334\n",
      "\n"
     ]
    }
   ],
   "source": [
    "# training the model\n",
    "lr = LogisticRegression()\n",
    "lr.fit(X_train, y_train)\n",
    "\n",
    "# testing model\n",
    "y_pred = lr.predict(X_test)\n",
    "print('Accuracy of Model: ', accuracy_score(y_test, y_pred))\n",
    "print('Classification Report: \\n', classification_report(y_test,y_pred))"
   ]
  },
  {
   "cell_type": "markdown",
   "id": "3358d49f-09cc-4421-af8c-846b4f3dfaa8",
   "metadata": {},
   "source": [
    "<h2>Random Forest Classifier</h2>"
   ]
  },
  {
   "cell_type": "code",
   "execution_count": 5,
   "id": "868ed999-df2f-4ba2-b5ed-279913cda475",
   "metadata": {},
   "outputs": [
    {
     "name": "stdout",
     "output_type": "stream",
     "text": [
      "Accuracy of Model:  0.9152678223830353\n",
      "Classification Report: \n",
      "               precision    recall  f1-score   support\n",
      "\n",
      "         0.0       0.96      0.86      0.91     43628\n",
      "         1.0       0.88      0.97      0.92     43706\n",
      "\n",
      "    accuracy                           0.92     87334\n",
      "   macro avg       0.92      0.92      0.92     87334\n",
      "weighted avg       0.92      0.92      0.92     87334\n",
      "\n"
     ]
    }
   ],
   "source": [
    "# training\n",
    "rfc = RandomForestClassifier(n_estimators = 300, criterion = 'entropy', min_samples_split=10, random_state=0)\n",
    "rfc.fit(X_train, y_train)\n",
    "\n",
    "# testing\n",
    "y_pred = rfc.predict(X_test)\n",
    "print('Accuracy of Model: ', accuracy_score(y_test, y_pred))\n",
    "print('Classification Report: \\n', classification_report(y_test,y_pred))"
   ]
  },
  {
   "cell_type": "code",
   "execution_count": 6,
   "id": "e5e9199d-e095-4e93-95d5-aa34d9944abc",
   "metadata": {},
   "outputs": [
    {
     "name": "stdout",
     "output_type": "stream",
     "text": [
      "Elapsed time to compute the importances: 0.123 seconds\n"
     ]
    }
   ],
   "source": [
    "import time\n",
    "\n",
    "import numpy as np\n",
    "\n",
    "start_time = time.time()\n",
    "importances = rfc.feature_importances_\n",
    "std = np.std([tree.feature_importances_ for tree in rfc.estimators_], axis=0)\n",
    "elapsed_time = time.time() - start_time\n",
    "\n",
    "print(f\"Elapsed time to compute the importances: {elapsed_time:.3f} seconds\")"
   ]
  },
  {
   "cell_type": "code",
   "execution_count": 7,
   "id": "12aed7de-4e1c-438a-9b2f-5d594082e745",
   "metadata": {},
   "outputs": [
    {
     "data": {
      "image/png": "[encoded data removed]",
      "text/plain": [
       "<Figure size 640x480 with 1 Axes>"
      ]
     },
     "metadata": {},
     "output_type": "display_data"
    }
   ],
   "source": [
    "feature_names = df.drop('Diabetes_binary', axis=1).columns\n",
    "forest_importances = pd.Series(importances, index=feature_names)\n",
    "\n",
    "fig, ax = plt.subplots()\n",
    "forest_importances.plot.bar(yerr=std, ax=ax)\n",
    "ax.set_title(\"Feature importances using MDI\")\n",
    "ax.set_ylabel(\"Mean decrease in impurity\")\n",
    "fig.tight_layout()"
   ]
  },
  {
   "cell_type": "code",
   "execution_count": 8,
   "id": "b3ae6c8e-0e50-402e-9fda-de2193c983b5",
   "metadata": {},
   "outputs": [
    {
     "data": {
      "text/plain": [
       "HighBP                  0.167716\n",
       "HighChol                0.113775\n",
       "CholCheck               0.057253\n",
       "BMI                     0.071625\n",
       "Smoker                  0.126288\n",
       "Stroke                  0.056064\n",
       "HeartDiseaseorAttack    0.078943\n",
       "PhysActivity            0.080649\n",
       "Fruits                  0.038407\n",
       "Veggies                 0.007464\n",
       "HvyAlcoholConsump       0.025572\n",
       "AnyHealthcare           0.010234\n",
       "NoDocbcCost             0.017745\n",
       "GenHlth                 0.020944\n",
       "MentHlth                0.025412\n",
       "PhysHlth                0.020996\n",
       "DiffWalk                0.010499\n",
       "Sex                     0.008559\n",
       "Age                     0.013115\n",
       "Education               0.025806\n",
       "Income                  0.022934\n",
       "dtype: float64"
      ]
     },
     "execution_count": 8,
     "metadata": {},
     "output_type": "execute_result"
    }
   ],
   "source": [
    "forest_importances"
   ]
  },
  {
   "cell_type": "markdown",
   "id": "ca493881-0b8c-41e0-9bd7-bcc0124ab328",
   "metadata": {},
   "source": [
    "<h2>K Nearest Neighbors Classifier</h2>"
   ]
  },
  {
   "cell_type": "code",
   "execution_count": 9,
   "id": "f2a97e24-35a6-4eb7-8535-6ace9a1afba9",
   "metadata": {},
   "outputs": [
    {
     "name": "stdout",
     "output_type": "stream",
     "text": [
      "Accuracy of Model:  0.8362149907252616\n",
      "Classification Report: \n",
      "               precision    recall  f1-score   support\n",
      "\n",
      "         0.0       0.94      0.72      0.81     43628\n",
      "         1.0       0.77      0.95      0.85     43706\n",
      "\n",
      "    accuracy                           0.84     87334\n",
      "   macro avg       0.85      0.84      0.83     87334\n",
      "weighted avg       0.85      0.84      0.83     87334\n",
      "\n"
     ]
    }
   ],
   "source": [
    "#training\n",
    "knn = KNeighborsClassifier(n_neighbors = 5, p = 2)\n",
    "knn.fit(X_train, y_train)\n",
    "\n",
    "# testing\n",
    "y_pred = knn.predict(X_test)\n",
    "print('Accuracy of Model: ', accuracy_score(y_test, y_pred))\n",
    "print('Classification Report: \\n', classification_report(y_test,y_pred))"
   ]
  }
 ],
 "metadata": {
  "kernelspec": {
   "display_name": "Python 3 (ipykernel)",
   "language": "python",
   "name": "python3"
  },
  "language_info": {
   "codemirror_mode": {
    "name": "ipython",
    "version": 3
   },
   "file_extension": ".py",
   "mimetype": "text/x-python",
   "name": "python",
   "nbconvert_exporter": "python",
   "pygments_lexer": "ipython3",
   "version": "3.12.2"
  }
 },
 "nbformat": 4,
 "nbformat_minor": 5
}
